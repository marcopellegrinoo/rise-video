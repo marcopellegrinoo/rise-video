{
 "cells": [
  {
   "cell_type": "code",
   "execution_count": 2,
   "metadata": {},
   "outputs": [],
   "source": [
    "import numpy as np\n",
    "import matplotlib.pyplot as plt\n",
    "\n",
    "def plot_saliency_3d(saliency_video, percentile, nr_instance, test_dates, cmap=\"viridis\"):\n",
    "    \"\"\"\n",
    "    Crea uno scatter plot 3D dei pixel con saliency >= percentile specificato e imposta il titolo.\n",
    "    \"\"\"\n",
    "    # Passo 1: Appiattisci l'array per calcolare il percentile desiderato\n",
    "    flat_saliency = saliency_video.flatten()\n",
    "\n",
    "    # Calcola il percentile specificato\n",
    "    percentile_value = np.percentile(flat_saliency, percentile)\n",
    "\n",
    "    # Passo 2: Trova le posizioni dei pixel con saliency >= percentile specificato\n",
    "    mask = saliency_video >= percentile_value\n",
    "    indices = np.argwhere(mask)\n",
    "\n",
    "    # Estrai le coordinate dei pixel rilevanti (frame, x, y) e i valori di saliency\n",
    "    xs = indices[:, 1] + 0.5  # Indici x (0-4), spostato di 0.5 verso il centro\n",
    "    ys = indices[:, 0]        # Frame (0-103), etichettato come tempo t\n",
    "    zs = indices[:, 2] + 0.5  # Indici y (0-7), spostato di 0.5 verso il centro\n",
    "    saliency_values = saliency_video[mask]  # Valori di saliency corrispondenti\n",
    "\n",
    "    # Normalizza i valori di saliency per l'alpha (trasparenza)\n",
    "    alpha = np.clip(saliency_values / np.max(saliency_values), 0.3, 1)  # Regola la trasparenza\n",
    "\n",
    "    # Passo 3: Creazione dello scatter plot 3D con dimensione maggiore e colormap\n",
    "    fig = plt.figure(figsize=(10, 7))  # Aumenta la dimensione della figura\n",
    "    ax = fig.add_subplot(111, projection='3d')\n",
    "\n",
    "    # Scatter plot 3D con mappa di colori basata sui valori di saliency, usando quadratini\n",
    "    sc = ax.scatter(zs, ys, xs, c=saliency_values, cmap=cmap, marker='s',\n",
    "                    s=60,  # Imposta la dimensione dei quadratini\n",
    "                    vmin=np.min(saliency_values), vmax=np.max(saliency_values),\n",
    "                    alpha=alpha)  # Imposta la trasparenza basata sul valore di saliency\n",
    "\n",
    "    # Imposta gli angoli di visualizzazione\n",
    "    ax.view_init(elev=20, azim=-55)  # Regola la prospettiva\n",
    "\n",
    "    # Imposta le etichette degli assi\n",
    "    # Imposta le etichette degli assi\n",
    "    ax.set_xlabel('Columns (0-7)', fontsize=12)\n",
    "    ax.set_ylabel('Time steps (0-103)', fontsize=12)\n",
    "    ax.set_zlabel('Rows (0-4)', fontsize=12)\n",
    "    ax.grid(True, linestyle='--', linewidth=0.5, alpha=0.7)  # Griglia leggera per chiarezza\n",
    "\n",
    "    # Modifica i tick dell'asse X per avere solo numeri interi\n",
    "    ax.set_zticks(np.arange(0, 5, 1))  # Setta i tick da 0 a 4 con step di 1\n",
    "    ax.set_yticks(np.arange(0, 104, 20))  # Setta i tick sull'asse temporale con step di 20\n",
    "    ax.set_xticks(np.arange(0, 8, 1))  # Setta i tick dell'asse Y da 0 a 7\n",
    "\n",
    "    # Modifica i limiti degli assi se necessario\n",
    "    ax.set_xlim([0, 8])\n",
    "    ax.set_ylim([0, 104])\n",
    "    ax.set_zlim([0, 5])\n",
    "\n",
    "    ax.view_init(elev=25, azim=-45)  # Regola l'angolazione\n",
    "\n",
    "    # Estrai la data corrispondente al primo frame dell'istanza\n",
    "    instance_date = test_dates[nr_instance][0].astype(str).split('T')[0]\n",
    "\n",
    "    # Imposta il titolo del grafico centrato e in grassetto\n",
    "    ax.set_title(f\"Saliency Video for Instance nr: {nr_instance}, Date: {instance_date}\",\n",
    "                 loc='center', fontweight='bold')\n",
    "\n",
    "    # Aggiungi la barra dei colori\n",
    "    cbar = plt.colorbar(sc, label='Saliency', fraction=0.025, pad=0.1, shrink=0.6)  # Aggiusta la dimensione e la posizione\n",
    "    # Salva la figura con alta risoluzione (es. dpi=300 per una qualità eccellente)\n",
    "    #fig.savefig('/content/saliency_video_high_res.png', dpi=400, bbox_inches='tight')  # Salva in formato PNG\n",
    "\n",
    "\n",
    "    plt.show()\n"
   ]
  },
  {
   "cell_type": "code",
   "execution_count": 6,
   "metadata": {},
   "outputs": [],
   "source": [
    "import pickle\n",
    "\n",
    "path_to_load_results =\"/leonardo_work/try25_pellegrino/Water_Resources/rise-video/XAI/spatial_temporal/results/01_marco_st_rise_original_20250309102535/rise_st_original_result_setup_l_12_h2_w3_p_05.pkl\"\n",
    "# Salvataggio della lista results in un file pickle\n",
    "with open(path_to_load_results, 'rb') as file:\n",
    "  result_st = pickle.load(file)\n",
    "  #result_st.append(setup)"
   ]
  },
  {
   "cell_type": "code",
   "execution_count": 21,
   "metadata": {},
   "outputs": [],
   "source": [
    "sal_video_0_s1 = result_st[\"saliency_videos\"][0,1,:]"
   ]
  },
  {
   "cell_type": "code",
   "execution_count": 2,
   "metadata": {},
   "outputs": [
    {
     "data": {
      "text/plain": [
       "2.0"
      ]
     },
     "execution_count": 2,
     "metadata": {},
     "output_type": "execute_result"
    }
   ],
   "source": [
    "(1/2*4)"
   ]
  },
  {
   "cell_type": "code",
   "execution_count": 22,
   "metadata": {},
   "outputs": [
    {
     "data": {
      "text/plain": [
       "array([[[-9.23333415e+11, -9.23333821e+11, -9.23334220e+11, ...,\n",
       "         -9.23355055e+11, -9.23368610e+11, -9.23382209e+11],\n",
       "        [-9.23342946e+11, -9.23343047e+11, -9.23343146e+11, ...,\n",
       "         -9.23356497e+11, -9.23365256e+11, -9.23373981e+11],\n",
       "        [-9.23352288e+11, -9.23352157e+11, -9.23352027e+11, ...,\n",
       "         -9.23357932e+11, -9.23361943e+11, -9.23365909e+11],\n",
       "        [-9.23361446e+11, -9.23361155e+11, -9.23360863e+11, ...,\n",
       "         -9.23359360e+11, -9.23358668e+11, -9.23357989e+11],\n",
       "        [-9.23370426e+11, -9.23370043e+11, -9.23369656e+11, ...,\n",
       "         -9.23360781e+11, -9.23355432e+11, -9.23350216e+11]],\n",
       "\n",
       "       [[-9.23332790e+11, -9.23332915e+11, -9.23333037e+11, ...,\n",
       "         -9.23352947e+11, -9.23366108e+11, -9.23379276e+11],\n",
       "        [-9.23343319e+11, -9.23342874e+11, -9.23342433e+11, ...,\n",
       "         -9.23355054e+11, -9.23363853e+11, -9.23372611e+11],\n",
       "        [-9.23353648e+11, -9.23352704e+11, -9.23351763e+11, ...,\n",
       "         -9.23357149e+11, -9.23361622e+11, -9.23366051e+11],\n",
       "        [-9.23363781e+11, -9.23362406e+11, -9.23361027e+11, ...,\n",
       "         -9.23359231e+11, -9.23359415e+11, -9.23359595e+11],\n",
       "        [-9.23373726e+11, -9.23371985e+11, -9.23370228e+11, ...,\n",
       "         -9.23361302e+11, -9.23357231e+11, -9.23353240e+11]],\n",
       "\n",
       "       [[-9.23332169e+11, -9.23332011e+11, -9.23331855e+11, ...,\n",
       "         -9.23350841e+11, -9.23363615e+11, -9.23376361e+11],\n",
       "        [-9.23343690e+11, -9.23342702e+11, -9.23341721e+11, ...,\n",
       "         -9.23353613e+11, -9.23362453e+11, -9.23371245e+11],\n",
       "        [-9.23355002e+11, -9.23353248e+11, -9.23351500e+11, ...,\n",
       "         -9.23356367e+11, -9.23361301e+11, -9.23366194e+11],\n",
       "        [-9.23366109e+11, -9.23363651e+11, -9.23361190e+11, ...,\n",
       "         -9.23359103e+11, -9.23360161e+11, -9.23361207e+11],\n",
       "        [-9.23377017e+11, -9.23373916e+11, -9.23370795e+11, ...,\n",
       "         -9.23361820e+11, -9.23359032e+11, -9.23356283e+11]],\n",
       "\n",
       "       ...,\n",
       "\n",
       "       [[-9.23471872e+11, -9.23534428e+11, -9.23597773e+11, ...,\n",
       "         -9.23626017e+11, -9.23581213e+11, -9.23536973e+11],\n",
       "        [-9.23477290e+11, -9.23542657e+11, -9.23608787e+11, ...,\n",
       "         -9.23633313e+11, -9.23582855e+11, -9.23532634e+11],\n",
       "        [-9.23482713e+11, -9.23550885e+11, -9.23619791e+11, ...,\n",
       "         -9.23640681e+11, -9.23584528e+11, -9.23528182e+11],\n",
       "        [-9.23488140e+11, -9.23559113e+11, -9.23630784e+11, ...,\n",
       "         -9.23648121e+11, -9.23586230e+11, -9.23523611e+11],\n",
       "        [-9.23493572e+11, -9.23567340e+11, -9.23641765e+11, ...,\n",
       "         -9.23655635e+11, -9.23587963e+11, -9.23518917e+11]],\n",
       "\n",
       "       [[-9.23460490e+11, -9.23523024e+11, -9.23586240e+11, ...,\n",
       "         -9.23617042e+11, -9.23574146e+11, -9.23531763e+11],\n",
       "        [-9.23467318e+11, -9.23531906e+11, -9.23597203e+11, ...,\n",
       "         -9.23623936e+11, -9.23575765e+11, -9.23527757e+11],\n",
       "        [-9.23474132e+11, -9.23540771e+11, -9.23608144e+11, ...,\n",
       "         -9.23630908e+11, -9.23577417e+11, -9.23523634e+11],\n",
       "        [-9.23480932e+11, -9.23549619e+11, -9.23619066e+11, ...,\n",
       "         -9.23637961e+11, -9.23579102e+11, -9.23519389e+11],\n",
       "        [-9.23487720e+11, -9.23558451e+11, -9.23629967e+11, ...,\n",
       "         -9.23645095e+11, -9.23580823e+11, -9.23515015e+11]],\n",
       "\n",
       "       [[-9.23449045e+11, -9.23511575e+11, -9.23574682e+11, ...,\n",
       "         -9.23608062e+11, -9.23567070e+11, -9.23526543e+11],\n",
       "        [-9.23457317e+11, -9.23521133e+11, -9.23585602e+11, ...,\n",
       "         -9.23614538e+11, -9.23568649e+11, -9.23522856e+11],\n",
       "        [-9.23465551e+11, -9.23530655e+11, -9.23596492e+11, ...,\n",
       "         -9.23621098e+11, -9.23570264e+11, -9.23519050e+11],\n",
       "        [-9.23473745e+11, -9.23540141e+11, -9.23607352e+11, ...,\n",
       "         -9.23627745e+11, -9.23571916e+11, -9.23515120e+11],\n",
       "        [-9.23481900e+11, -9.23549592e+11, -9.23618183e+11, ...,\n",
       "         -9.23634480e+11, -9.23573606e+11, -9.23511057e+11]]])"
      ]
     },
     "execution_count": 22,
     "metadata": {},
     "output_type": "execute_result"
    }
   ],
   "source": [
    "sal_video_0_s1"
   ]
  },
  {
   "cell_type": "code",
   "execution_count": 18,
   "metadata": {},
   "outputs": [
    {
     "data": {
      "text/plain": [
       "array([[[nan, nan, nan, ..., nan, nan, nan],\n",
       "        [nan, nan, nan, ..., nan, nan, nan],\n",
       "        [nan, nan, nan, ..., nan, nan, nan],\n",
       "        [nan, nan, nan, ..., nan, nan, nan],\n",
       "        [nan, nan, nan, ..., nan, nan, nan]],\n",
       "\n",
       "       [[nan, nan, nan, ..., nan, nan, nan],\n",
       "        [nan, nan, nan, ..., nan, nan, nan],\n",
       "        [nan, nan, nan, ..., nan, nan, nan],\n",
       "        [nan, nan, nan, ..., nan, nan, nan],\n",
       "        [nan, nan, nan, ..., nan, nan, nan]],\n",
       "\n",
       "       [[nan, nan, nan, ..., nan, nan, nan],\n",
       "        [nan, nan, nan, ..., nan, nan, nan],\n",
       "        [nan, nan, nan, ..., nan, nan, nan],\n",
       "        [nan, nan, nan, ..., nan, nan, nan],\n",
       "        [nan, nan, nan, ..., nan, nan, nan]],\n",
       "\n",
       "       ...,\n",
       "\n",
       "       [[nan, nan, nan, ..., nan, nan, nan],\n",
       "        [nan, nan, nan, ..., nan, nan, nan],\n",
       "        [nan, nan, nan, ..., nan, nan, nan],\n",
       "        [nan, nan, nan, ..., nan, nan, nan],\n",
       "        [nan, nan, nan, ..., nan, nan, nan]],\n",
       "\n",
       "       [[nan, nan, nan, ..., nan, nan, nan],\n",
       "        [nan, nan, nan, ..., nan, nan, nan],\n",
       "        [nan, nan, nan, ..., nan, nan, nan],\n",
       "        [nan, nan, nan, ..., nan, nan, nan],\n",
       "        [nan, nan, nan, ..., nan, nan, nan]],\n",
       "\n",
       "       [[nan, nan, nan, ..., nan, nan, nan],\n",
       "        [nan, nan, nan, ..., nan, nan, nan],\n",
       "        [nan, nan, nan, ..., nan, nan, nan],\n",
       "        [nan, nan, nan, ..., nan, nan, nan],\n",
       "        [nan, nan, nan, ..., nan, nan, nan]]])"
      ]
     },
     "execution_count": 18,
     "metadata": {},
     "output_type": "execute_result"
    }
   ],
   "source": [
    "sal_video_0_s1 "
   ]
  }
 ],
 "metadata": {
  "kernelspec": {
   "display_name": "env",
   "language": "python",
   "name": "python3"
  },
  "language_info": {
   "codemirror_mode": {
    "name": "ipython",
    "version": 3
   },
   "file_extension": ".py",
   "mimetype": "text/x-python",
   "name": "python",
   "nbconvert_exporter": "python",
   "pygments_lexer": "ipython3",
   "version": "3.10.8"
  }
 },
 "nbformat": 4,
 "nbformat_minor": 2
}
