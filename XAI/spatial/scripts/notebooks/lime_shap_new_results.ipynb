{
 "cells": [
  {
   "cell_type": "code",
   "execution_count": 1,
   "metadata": {},
   "outputs": [
    {
     "name": "stdout",
     "output_type": "stream",
     "text": [
      "105\n",
      "105\n",
      "105\n"
     ]
    }
   ],
   "source": [
    "# IMPORTO I DATI PER VOTTIGNASCO\n",
    "import os\n",
    "import numpy as np\n",
    "\n",
    "# Ottieni il percorso effettivo da una variabile d'ambiente\n",
    "work_path = os.environ['WORK']  # Ottieni il valore della variabile d'ambiente WORK\n",
    "v_test_OHE_path = os.path.join(work_path, \"Water_Resources/rise-video/data/Vottignasco/Vottignasco_00425010001_test_month_OHE.npy\")\n",
    "v_test_image_path = os.path.join(work_path, \"Water_Resources/rise-video/data/Vottignasco/Vottignasco_00425010001_test_normalized_image_sequences.npy\")\n",
    "v_test_target_dates_path = os.path.join(work_path, \"Water_Resources/rise-video/data/Vottignasco/Vottignasco_00425010001_test_target_dates.npy\")\n",
    "\n",
    "# Carica l'array numpy dai file\n",
    "vottignasco_test_OHE    = np.load(v_test_OHE_path)\n",
    "vottignasco_test_image  = np.load(v_test_image_path)\n",
    "vottignasco_test_dates  = np.load(v_test_target_dates_path)\n",
    "\n",
    "\n",
    "print(len(vottignasco_test_dates))\n",
    "print(len(vottignasco_test_image))\n",
    "print(len(vottignasco_test_OHE))"
   ]
  },
  {
   "cell_type": "code",
   "execution_count": 2,
   "metadata": {},
   "outputs": [],
   "source": [
    "import pickle \n",
    "\n",
    "base_path = \"/leonardo_work/try25_pellegrino/Water_Resources/rise-video/XAI/spatial/results/01_marco_spatial_lime_shap_20250308141042/lime_shap_spatial_results_setup_ns_9_comp_20.pkl\"\n",
    "#path_to_load_results = os.path.join(work_path, \"Water_Resources/rise-video/XAI/spatial/results/rise_original_multiplicative_norm_zero/results_setup_new_h_w_inv_sigmoide.pkl\")\n",
    "\n",
    "alg = \"lime\"\n",
    "ns = 9\n",
    "comp = 20\n",
    "\n",
    "# Load della lista results\n",
    "with open(base_path, 'rb') as file:\n",
    "    result_lime = pickle.load(file)"
   ]
  },
  {
   "cell_type": "code",
   "execution_count": 9,
   "metadata": {},
   "outputs": [
    {
     "name": "stdout",
     "output_type": "stream",
     "text": [
      "[[0.15954684 0.15954684 0.15954684 0.15954684 0.15954684 0.03039051\n",
      "  0.03039051 0.15376019]\n",
      " [0.15954684 0.15954684 0.15954684 0.21069002 0.03039051 0.03039051\n",
      "  0.15376019 0.15376019]\n",
      " [0.15954684 0.15954684 0.15954684 0.21069002 0.39652583 0.03039051\n",
      "  0.15376019 0.15376019]\n",
      " [0.03790247 0.03790247 0.15954684 0.39652583 0.39652583 0.07313031\n",
      "  0.07313031 0.05494029]\n",
      " [0.03790247 0.03790247 0.39652583 0.39652583 0.39652583 0.07313031\n",
      "  0.07313031 0.05494029]]\n"
     ]
    },
    {
     "data": {
      "text/plain": [
       "<matplotlib.colorbar.Colorbar at 0x7f3f04c62aa0>"
      ]
     },
     "execution_count": 9,
     "metadata": {},
     "output_type": "execute_result"
    },
    {
     "data": {
      "image/png": "[encoded data removed]",
      "text/plain": [
       "<Figure size 640x480 with 2 Axes>"
      ]
     },
     "metadata": {},
     "output_type": "display_data"
    }
   ],
   "source": [
    "import matplotlib.pyplot as plt\n",
    "\n",
    "sal_map_0 = result_lime[\"lime\"][\"ns_9_comp_20_kw_90_alpha_10.0\"][\"saliency_maps\"][0]\n",
    "\n",
    "print(sal_map_0)\n",
    "\n",
    "plt.imshow(sal_map_0, origin=\"lower\", cmap=\"PuBu\")\n",
    "plt.colorbar()"
   ]
  }
 ],
 "metadata": {
  "kernelspec": {
   "display_name": "env",
   "language": "python",
   "name": "python3"
  },
  "language_info": {
   "codemirror_mode": {
    "name": "ipython",
    "version": 3
   },
   "file_extension": ".py",
   "mimetype": "text/x-python",
   "name": "python",
   "nbconvert_exporter": "python",
   "pygments_lexer": "ipython3",
   "version": "3.10.8"
  }
 },
 "nbformat": 4,
 "nbformat_minor": 2
}
